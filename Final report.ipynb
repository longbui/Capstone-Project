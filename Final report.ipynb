{
 "cells": [
  {
   "cell_type": "markdown",
   "metadata": {},
   "source": [
    "# Final Report Battle of Neighborhood\n",
    "In this project, I used pandas to get the 9 urban districts of Hanoi with corresponding geo coordinates. The Foursquare API was employed to get top 10 venues in radius of 500m around each district. KMean Clusters technique was used to find 5 clusters  of venues in Hanoi. Map of clusters was created by Folium. Each cluster was examined.\n",
    "It can be clearly seen that Cluster 1 is crowded with restaurants, including Vietnamese Foods restaurant. Mr Long would choose Long Bien (Cluster 0), Ha Dong (Cluster 3), or Hai Ba Trung (Cluster 4) with no Vietnamse Foods restaurent in top 10 venues. The final venues depends on the hiring price and location of hiring venue in these districts."
   ]
  },
  {
   "cell_type": "code",
   "execution_count": null,
   "metadata": {},
   "outputs": [],
   "source": []
  }
 ],
 "metadata": {
  "kernelspec": {
   "display_name": "Python 3",
   "language": "python",
   "name": "python3"
  },
  "language_info": {
   "codemirror_mode": {
    "name": "ipython",
    "version": 3
   },
   "file_extension": ".py",
   "mimetype": "text/x-python",
   "name": "python",
   "nbconvert_exporter": "python",
   "pygments_lexer": "ipython3",
   "version": "3.6.5"
  }
 },
 "nbformat": 4,
 "nbformat_minor": 2
}

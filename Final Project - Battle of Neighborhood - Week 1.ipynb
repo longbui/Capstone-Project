{
 "cells": [
  {
   "cell_type": "markdown",
   "metadata": {},
   "source": [
    "# Final project - Battle of Neighborhood - Week 1\n",
    "## Project Introduction\n",
    "Hanoi is the capital of Hanoi. Mr Long is planning to open a restaturant. He is contemplating on the  Vietnamese Food restaurant, and where to locate it. Therefore, he use Foursquare API to find clusters of venues in 9 urban districts of\n",
    "Hanoi.\n",
    "## Data description\n",
    "The csv file contains name and geo coordinates of Hanoi. He will read it into pandas data frame and query 100 venues in radius of 500m around each district. And then he will find 5 cluster of venues. To minimize competition, he will choose the cluster with no Vietnmese Food restaurant in top 10 common venues."
   ]
  },
  {
   "cell_type": "markdown",
   "metadata": {},
   "source": [
    "## Data\n"
   ]
  },
  {
   "cell_type": "markdown",
   "metadata": {},
   "source": [
    "### Load Data of hanoi"
   ]
  },
  {
   "cell_type": "code",
   "execution_count": 1,
   "metadata": {},
   "outputs": [
    {
     "data": {
      "text/html": [
       "<div>\n",
       "<style scoped>\n",
       "    .dataframe tbody tr th:only-of-type {\n",
       "        vertical-align: middle;\n",
       "    }\n",
       "\n",
       "    .dataframe tbody tr th {\n",
       "        vertical-align: top;\n",
       "    }\n",
       "\n",
       "    .dataframe thead th {\n",
       "        text-align: right;\n",
       "    }\n",
       "</style>\n",
       "<table border=\"1\" class=\"dataframe\">\n",
       "  <thead>\n",
       "    <tr style=\"text-align: right;\">\n",
       "      <th></th>\n",
       "      <th>Neighborhood</th>\n",
       "      <th>Lat</th>\n",
       "      <th>Long</th>\n",
       "    </tr>\n",
       "  </thead>\n",
       "  <tbody>\n",
       "    <tr>\n",
       "      <th>0</th>\n",
       "      <td>Hoan Kiem</td>\n",
       "      <td>21.02828</td>\n",
       "      <td>105.85388</td>\n",
       "    </tr>\n",
       "    <tr>\n",
       "      <th>1</th>\n",
       "      <td>Hai Ba Trung</td>\n",
       "      <td>21.01001</td>\n",
       "      <td>105.84980</td>\n",
       "    </tr>\n",
       "    <tr>\n",
       "      <th>2</th>\n",
       "      <td>Ba Dinh</td>\n",
       "      <td>21.03403</td>\n",
       "      <td>105.81426</td>\n",
       "    </tr>\n",
       "    <tr>\n",
       "      <th>3</th>\n",
       "      <td>Hoang Mai</td>\n",
       "      <td>20.97455</td>\n",
       "      <td>105.84436</td>\n",
       "    </tr>\n",
       "    <tr>\n",
       "      <th>4</th>\n",
       "      <td>Thanh Xuan</td>\n",
       "      <td>20.99404</td>\n",
       "      <td>105.80088</td>\n",
       "    </tr>\n",
       "  </tbody>\n",
       "</table>\n",
       "</div>"
      ],
      "text/plain": [
       "   Neighborhood       Lat       Long\n",
       "0     Hoan Kiem  21.02828  105.85388\n",
       "1  Hai Ba Trung  21.01001  105.84980\n",
       "2       Ba Dinh  21.03403  105.81426\n",
       "3     Hoang Mai  20.97455  105.84436\n",
       "4    Thanh Xuan  20.99404  105.80088"
      ]
     },
     "execution_count": 1,
     "metadata": {},
     "output_type": "execute_result"
    }
   ],
   "source": [
    "import pandas as pd\n",
    "hanoi = pd.read_csv('hanoi.csv')\n",
    "hanoi.columns = ['Neighborhood', 'Lat', 'Long']\n",
    "hanoi.head()"
   ]
  },
  {
   "cell_type": "markdown",
   "metadata": {},
   "source": [
    "### Define Foursquare API"
   ]
  },
  {
   "cell_type": "code",
   "execution_count": null,
   "metadata": {},
   "outputs": [],
   "source": [
    "CLIENT_ID = 'C1YS0EU4C0MTTCNDINPNXBMFDM2YPBBEZ1VQL5IFWLIXU4EC' # your Foursquare ID\n",
    "CLIENT_SECRET = 'AWGGKRYPEFT24D2NPAD2MD3VREK5GMVJFXNM3ZZD25JARGN0' # your Foursquare Secret\n",
    "VERSION = '20180605' # Foursquare API version\n",
    "\n",
    "print('Your credentails:')\n",
    "print('CLIENT_ID: ' + CLIENT_ID)\n",
    "print('CLIENT_SECRET:' + CLIENT_SECRET)"
   ]
  }
 ],
 "metadata": {
  "kernelspec": {
   "display_name": "Python 3",
   "language": "python",
   "name": "python3"
  },
  "language_info": {
   "codemirror_mode": {
    "name": "ipython",
    "version": 3
   },
   "file_extension": ".py",
   "mimetype": "text/x-python",
   "name": "python",
   "nbconvert_exporter": "python",
   "pygments_lexer": "ipython3",
   "version": "3.6.5"
  }
 },
 "nbformat": 4,
 "nbformat_minor": 2
}

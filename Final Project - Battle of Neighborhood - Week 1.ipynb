{
 "cells": [
  {
   "cell_type": "markdown",
   "metadata": {},
   "source": [
    "# Final project - Battle of Neighborhood - Week 1\n",
    "## Project Introduction\n",
    "Hanoi is the capital of Hanoi. Mr Long is planning to open a restaturant. He is contemplating on the  Vietnamese Food restaurant, and where to locate it. Therefore, he use Foursquare API to find clusters of venues in 9 urban districts of\n",
    "Hanoi.\n",
    "## Data description\n",
    "The csv file contains name and geo coordinates of Hanoi. He will read it into pandas data frame and query 100 venues in radius of 500m around each district. And then he will find 5 cluster of venues. To minimize competition, he will choose the cluster with no Vietnmese Food restaurant in top 10 common venues."
   ]
  },
  {
   "cell_type": "code",
   "execution_count": null,
   "metadata": {},
   "outputs": [],
   "source": []
  }
 ],
 "metadata": {
  "kernelspec": {
   "display_name": "Python 3",
   "language": "python",
   "name": "python3"
  },
  "language_info": {
   "codemirror_mode": {
    "name": "ipython",
    "version": 3
   },
   "file_extension": ".py",
   "mimetype": "text/x-python",
   "name": "python",
   "nbconvert_exporter": "python",
   "pygments_lexer": "ipython3",
   "version": "3.6.5"
  }
 },
 "nbformat": 4,
 "nbformat_minor": 2
}
